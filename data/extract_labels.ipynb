{
 "cells": [
  {
   "cell_type": "code",
   "execution_count": 4,
   "metadata": {},
   "outputs": [],
   "source": [
    "import os\n",
    "import re\n",
    "import pandas as pd\n"
   ]
  },
  {
   "cell_type": "code",
   "execution_count": 8,
   "metadata": {},
   "outputs": [],
   "source": [
    "\n",
    "# Configuration\n",
    "image_directory = 'images/'  # Replace with your image directory\n",
    "output_csv = 'images/labels.csv'\n",
    "\n",
    "\n",
    "# Function to extract coordinates and generate new filename\n",
    "def process_image(image_file, index):\n",
    "    match = re.search(r'screenshot_\\[([\\d.-]+)_([\\d.-]+)\\]\\.png', image_file)\n",
    "    \n",
    "    if match:\n",
    "        myLambda = match.group(1)\n",
    "        myPhi = match.group(2)\n",
    "        new_filename = f'image_{index:05d}.png'  # Zero-padded index (e.g., image_00001.png)\n",
    "        return new_filename, myLambda, myPhi\n",
    "    else:\n",
    "        return None, None, None"
   ]
  },
  {
   "cell_type": "code",
   "execution_count": 9,
   "metadata": {},
   "outputs": [
    {
     "name": "stdout",
     "output_type": "stream",
     "text": [
      "Processing complete!\n"
     ]
    }
   ],
   "source": [
    "# Main processing loop\n",
    "data = []\n",
    "\n",
    "index = 0\n",
    "\n",
    "for filename in os.listdir(image_directory):\n",
    "    if filename.endswith('.png'):\n",
    "        filepath = os.path.join(image_directory, filename)\n",
    "        index = index + 1\n",
    "        new_filename, myLambda, myPhi = process_image(filepath, index)\n",
    "\n",
    "        if new_filename:\n",
    "            os.rename(filepath, os.path.join(image_directory, new_filename))\n",
    "            data.append({'index': new_filename, 'lambda': myLambda, 'phi': myPhi}) \n",
    "\n",
    "# Create CSV\n",
    "df = pd.DataFrame(data)\n",
    "df.to_csv(output_csv, index=False)\n",
    "\n",
    "print(\"Processing complete!\")"
   ]
  }
 ],
 "metadata": {
  "kernelspec": {
   "display_name": "Python 3",
   "language": "python",
   "name": "python3"
  },
  "language_info": {
   "codemirror_mode": {
    "name": "ipython",
    "version": 3
   },
   "file_extension": ".py",
   "mimetype": "text/x-python",
   "name": "python",
   "nbconvert_exporter": "python",
   "pygments_lexer": "ipython3",
   "version": "3.12.2"
  }
 },
 "nbformat": 4,
 "nbformat_minor": 2
}
